{
 "cells": [
  {
   "cell_type": "code",
   "execution_count": 206,
   "id": "5c5f16d7",
   "metadata": {},
   "outputs": [],
   "source": [
    "import numpy as np\n",
    "from stl import mesh\n",
    "import math"
   ]
  },
  {
   "cell_type": "code",
   "execution_count": 146,
   "id": "28338d4e",
   "metadata": {},
   "outputs": [
    {
     "data": {
      "text/plain": [
       "1212"
      ]
     },
     "execution_count": 146,
     "metadata": {},
     "output_type": "execute_result"
    }
   ],
   "source": [
    "my_mesh = mesh.Mesh.from_file('knot.stl')\n",
    "len(my_mesh.vectors)*3"
   ]
  },
  {
   "cell_type": "code",
   "execution_count": 288,
   "id": "481b3171",
   "metadata": {},
   "outputs": [],
   "source": [
    "my_mesh = mesh.Mesh.from_file('think.stl')\n",
    "\n",
    "n = 1000\n",
    "\n",
    "\n",
    "out = f'''namespace dragon\n",
    "{\"{\"}\n",
    "const int vertex_count = {len(my_mesh.vectors[:n])*3};\n",
    "const float vertices[][3] = {\"{\"}'''\n",
    "\n",
    "\n",
    "# Merge duplicate vectors\n",
    "\n",
    "offset = np.mean(np.mean(my_mesh.vectors, axis=0), axis=0)\n",
    "my_mesh.vectors -= offset\n",
    "\n",
    "my_mesh.vectors = my_mesh.vectors/max(abs(my_mesh.vectors[:n].flatten()))\n",
    "\n",
    "for triangle in my_mesh.vectors[:n]:\n",
    "    for vertex in triangle[::1]:\n",
    "        out += f\"{vertex[0]}, {vertex[1]}, {vertex[2]}, \\n\"\n",
    "\n",
    "out += '''};\n",
    "const float normals[][3] = {'''\n",
    "\n",
    "for normal in my_mesh.normals[:n]:\n",
    "    normal /= numpy.linalg.norm(normal)\n",
    "    out += f\"{normal[0]}, {normal[1]}, {normal[2]}, \\n\"\n",
    "\n",
    "# out += '''};\n",
    "# const uint16_t indices[] = {'''\n",
    "\n",
    "# for i in range(0, n*3):\n",
    "#     out += f\"{i}, \\n\"\n",
    "\n",
    "out += '};\\n};'\n",
    "\n",
    "with open(\"dragon.h\", \"w\") as text_file:\n",
    "    text_file.write(out)"
   ]
  },
  {
   "cell_type": "code",
   "execution_count": 264,
   "id": "a34cfad6",
   "metadata": {},
   "outputs": [
    {
     "data": {
      "text/plain": [
       "array([[-0.33872, -0.14753, -0.57644],\n",
       "       [-0.30578, -0.1487 , -0.57644],\n",
       "       [-0.22905, -0.07885, -0.57644],\n",
       "       ...,\n",
       "       [ 0.2666 ,  0.03721,  1.     ],\n",
       "       [ 0.27564,  0.07307,  0.99794],\n",
       "       [ 0.29533,  0.0664 ,  0.99752]])"
      ]
     },
     "execution_count": 264,
     "metadata": {},
     "output_type": "execute_result"
    }
   ],
   "source": [
    "vectors"
   ]
  },
  {
   "cell_type": "code",
   "execution_count": 284,
   "id": "b23d8142",
   "metadata": {},
   "outputs": [
    {
     "name": "stdout",
     "output_type": "stream",
     "text": [
      "False\n",
      "False\n",
      "False\n",
      "True\n",
      "[-229.0503387451172, -78.8541488647461, -576.4373168945312] [[-338.7218933105469, -147.5282745361328, -576.4373168945312], [-305.7821960449219, -148.69903564453125, -576.4373168945312], [-229.0503387451172, -78.8541488647461, -576.4373168945312]]\n"
     ]
    },
    {
     "ename": "ValueError",
     "evalue": "[-229.0503387451172, -78.8541488647461, -576.4373168945312] is not in list",
     "output_type": "error",
     "traceback": [
      "\u001b[0;31m---------------------------------------------------------------------------\u001b[0m",
      "\u001b[0;31mValueError\u001b[0m                                Traceback (most recent call last)",
      "\u001b[0;32m/var/folders/kz/md5_r4gx50b05k7428r49r6c0000gn/T/ipykernel_55761/2632277931.py\u001b[0m in \u001b[0;36m<module>\u001b[0;34m\u001b[0m\n\u001b[1;32m     13\u001b[0m     \u001b[0;32mif\u001b[0m \u001b[0mvector\u001b[0m \u001b[0;32min\u001b[0m \u001b[0munique_vectors\u001b[0m\u001b[0;34m:\u001b[0m\u001b[0;34m\u001b[0m\u001b[0;34m\u001b[0m\u001b[0m\n\u001b[1;32m     14\u001b[0m         \u001b[0mprint\u001b[0m\u001b[0;34m(\u001b[0m\u001b[0mvector\u001b[0m\u001b[0;34m,\u001b[0m\u001b[0munique_vectors\u001b[0m\u001b[0;34m)\u001b[0m\u001b[0;34m\u001b[0m\u001b[0;34m\u001b[0m\u001b[0m\n\u001b[0;32m---> 15\u001b[0;31m         \u001b[0mi_in_unique_vectors\u001b[0m \u001b[0;34m=\u001b[0m \u001b[0muinque_vectors\u001b[0m\u001b[0;34m.\u001b[0m\u001b[0mindex\u001b[0m\u001b[0;34m(\u001b[0m\u001b[0mvector\u001b[0m\u001b[0;34m)\u001b[0m\u001b[0;34m\u001b[0m\u001b[0;34m\u001b[0m\u001b[0m\n\u001b[0m\u001b[1;32m     16\u001b[0m         \u001b[0mindices\u001b[0m\u001b[0;34m.\u001b[0m\u001b[0mappend\u001b[0m\u001b[0;34m(\u001b[0m\u001b[0mi_in_unique_vectors\u001b[0m\u001b[0;34m)\u001b[0m\u001b[0;34m\u001b[0m\u001b[0;34m\u001b[0m\u001b[0m\n\u001b[1;32m     17\u001b[0m     \u001b[0;31m# if is first time seeing vector, add it to unique list\u001b[0m\u001b[0;34m\u001b[0m\u001b[0;34m\u001b[0m\u001b[0m\n",
      "\u001b[0;31mValueError\u001b[0m: [-229.0503387451172, -78.8541488647461, -576.4373168945312] is not in list"
     ]
    }
   ],
   "source": [
    "vectors = my_mesh.vectors.reshape(-1, my_mesh.vectors.shape[-1])\n",
    "normals = my_mesh.normals\n",
    "vectors = np.around(vectors, decimals=5).tolist()\n",
    "normals = np.around(normals, decimals=5).tolist()\n",
    "\n",
    "indices = []\n",
    "unique_vectors = []\n",
    "unique_normals = []\n",
    "\n",
    "for i, vector in enumerate(vectors):\n",
    "    # if repeated, point towards the vector alr in the unique array\n",
    "    print(vector in unique_vectors)\n",
    "    if vector in unique_vectors:\n",
    "        print(vector,unique_vectors)\n",
    "        i_in_unique_vectors = uinque_vectors.index(vector)\n",
    "        indices.append(i_in_unique_vectors) \n",
    "    # if is first time seeing vector, add it to unique list\n",
    "    else:\n",
    "        unique_vectors.append(list(vector))\n",
    "        unique_normals.append(normal)\n",
    "        indices.append(i)\n",
    "        \n",
    "unique_vectors"
   ]
  },
  {
   "cell_type": "code",
   "execution_count": 196,
   "id": "b88259f6",
   "metadata": {},
   "outputs": [
    {
     "data": {
      "text/plain": [
       "1236"
      ]
     },
     "execution_count": 196,
     "metadata": {},
     "output_type": "execute_result"
    }
   ],
   "source": [
    "len(vectors)"
   ]
  },
  {
   "cell_type": "markdown",
   "id": "bcb70b09",
   "metadata": {},
   "source": [
    "## "
   ]
  }
 ],
 "metadata": {
  "kernelspec": {
   "display_name": "Python 3 (ipykernel)",
   "language": "python",
   "name": "python3"
  },
  "language_info": {
   "codemirror_mode": {
    "name": "ipython",
    "version": 3
   },
   "file_extension": ".py",
   "mimetype": "text/x-python",
   "name": "python",
   "nbconvert_exporter": "python",
   "pygments_lexer": "ipython3",
   "version": "3.9.7"
  }
 },
 "nbformat": 4,
 "nbformat_minor": 5
}
