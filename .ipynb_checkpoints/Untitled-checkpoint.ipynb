{
 "cells": [
  {
   "cell_type": "code",
   "execution_count": 44,
   "id": "e3f12f95",
   "metadata": {},
   "outputs": [],
   "source": [
    "import numpy\n",
    "from stl import mesh"
   ]
  },
  {
   "cell_type": "code",
   "execution_count": 89,
   "id": "3ad4dd21",
   "metadata": {},
   "outputs": [
    {
     "data": {
      "text/plain": [
       "36"
      ]
     },
     "execution_count": 89,
     "metadata": {},
     "output_type": "execute_result"
    }
   ],
   "source": [
    "my_mesh = mesh.Mesh.from_file('cube.stl')\n",
    "len(my_mesh.vectors)*3"
   ]
  },
  {
   "cell_type": "code",
   "execution_count": 118,
   "id": "e60aab4e",
   "metadata": {},
   "outputs": [],
   "source": [
    "my_mesh = mesh.Mesh.from_file('pika.stl')\n",
    "\n",
    "n = 1000\n",
    "\n",
    "out = f'''namespace dragon\n",
    "{\"{\"}\n",
    "const int vertex_count = {len(my_mesh.vectors[:n])*3};\n",
    "const float vertices[][3] = {\"{\"}'''\n",
    "\n",
    "my_mesh.vectors = my_mesh.vectors/max(abs(my_mesh.vectors[:n].flatten()))\n",
    "\n",
    "for triangle in my_mesh.vectors[:n]:\n",
    "    for vertex in triangle:\n",
    "        out += f\"{vertex[2]}, {vertex[1]}, {vertex[0]}, \\n\"\n",
    "\n",
    "out += '''};\n",
    "const float normals[][3] = {'''\n",
    "\n",
    "for normal in my_mesh.normals[:n]:\n",
    "    normal /= numpy.linalg.norm(normal)\n",
    "    out += f\"{-normal[0]}, {-normal[1]}, {-normal[2]}, \\n\"\n",
    "\n",
    "# out += '''};\n",
    "# const uint16_t indices[] = {'''\n",
    "\n",
    "# for i in range(0, n*3):\n",
    "#     out += f\"{i}, \\n\"\n",
    "\n",
    "out += '};\\n};'\n",
    "\n",
    "with open(\"dragon.h\", \"w\") as text_file:\n",
    "    text_file.write(out)"
   ]
  },
  {
   "cell_type": "code",
   "execution_count": 112,
   "id": "5f1233cd",
   "metadata": {},
   "outputs": [
    {
     "data": {
      "text/plain": [
       "0.19527787"
      ]
     },
     "execution_count": 112,
     "metadata": {},
     "output_type": "execute_result"
    }
   ],
   "source": [
    "max(abs(my_mesh.vectors.flatten()[:n*3]))"
   ]
  },
  {
   "cell_type": "code",
   "execution_count": null,
   "id": "e3b4716c",
   "metadata": {},
   "outputs": [],
   "source": []
  }
 ],
 "metadata": {
  "kernelspec": {
   "display_name": "Python 3 (ipykernel)",
   "language": "python",
   "name": "python3"
  },
  "language_info": {
   "codemirror_mode": {
    "name": "ipython",
    "version": 3
   },
   "file_extension": ".py",
   "mimetype": "text/x-python",
   "name": "python",
   "nbconvert_exporter": "python",
   "pygments_lexer": "ipython3",
   "version": "3.9.7"
  }
 },
 "nbformat": 4,
 "nbformat_minor": 5
}
